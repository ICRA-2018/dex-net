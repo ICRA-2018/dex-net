{
 "cells": [
  {
   "cell_type": "markdown",
   "metadata": {},
   "source": [
    "# Berkeley AUTOLAB's Dex-Net Package\n",
    "\n",
    "## Links\n",
    "[Documentation](https://berkeleyautomation.github.io/dex-net/code.html)\n",
    "\n",
    "[Project website](https://berkeleyautomation.github.io/dex-net)\n",
    "\n",
    "[RSS Paper](https://github.com/BerkeleyAutomation/dex-net/raw/gh-pages/docs/dexnet_rss2017_final.pdf)\n",
    "\n",
    "## Updates\n",
    "As of Jan 1, 2018 the AUTOLAB visualization module uses the [trimesh](https://github.com/mikedh/trimesh) library instead of [meshpy](https://github.com/BerkeleyAutomation/meshpy).\n",
    "Version mismatches between cloned libraries may lead to exceptions when using the CLI.\n",
    "If you experience visualization errors, please run `git pull origin master` from the dex-net, meshpy, and visualization repositories and try again.\n",
    "\n",
    "We are currently working on migrating dex-net to use [trimesh](https://github.com/mikedh/trimesh) and improving the installation procedure.\n",
    "We hope to release a new version by May 2018.\n",
    "\n",
    "## Overview\n",
    "The dex-net Python package is for opening, reading, and writing HDF5 databases of 3D object models, parallel-jaw grasps, and grasp robustness metrics.\n",
    "\n",
    "The HDF5 databases can also be used to generate massive datasets associating tuples of point clouds and grasps with binary grasp robustness labels to train [Grasp Quality Convolutional Neural Networks (GQ-CNNs)](https://berkeleyautomation.github.io/gqcnn) to predict robustness of candidate grasps from point clouds.\n",
    "If you are interested in this functionality, please email Jeff Mahler (jmahler@berkeley.edu) with the subject line: \"Interested in GQ-CNN Dataset Generation.\"\n",
    "\n",
    "This package is part of the [Dexterity Network (Dex-Net)](https://berkeleyautomation.github.io/dex-net) project.\n",
    "Created and maintained by the [AUTOLAB at UC Berkeley](https://autolab.berkeley.edu).\n",
    "\n",
    "## Installation\n",
    "See [the documentation](https://berkeleyautomation.github.io/dex-net/code.html) for installation instructions and API Documentation.\n",
    "\n",
    "## Usage\n",
    "As of Feb. 1, 2018, the code is licensed according to the UC Berkeley Copyright and Disclaimer Notice.\n",
    "The code is available for educational, research, and not-for-profit purposes (for full details, see LICENSE).\n",
    "If you use this code in a publication, please cite:\n",
    "\n",
    "Mahler, Jeffrey, Jacky Liang, Sherdil Niyaz, Michael Laskey, Richard Doan, Xinyu Liu, Juan Aparicio Ojea, and Ken Goldberg. \"Dex-Net 2.0: Deep Learning to Plan Robust Grasps with Synthetic Point Clouds and Analytic Grasp Metrics.\" Robotics: Science and Systems (2017). Boston, MA.\n",
    "\n",
    "## Datasets\n",
    "The Dex-Net Object Mesh Dataset v1.1 and Dex-Net 2.0 HDF5 database can be downloaded from [the data repository](http://bit.ly/2uh07i9).\n",
    "\n",
    "Custom datasets can now be generated using the script tools/generate_gqcnn_dataset.py\n",
    "\n",
    "## Parallel-Jaw Grippers\n",
    "The repository currently supports our custom ABB YuMi gripper.\n",
    "If you are interested in additional parallel-jaw grippers, please email Jeff Mahler (jmahler@berkeley.edu) with the subject line: \"Interested in Contributing to the Dex-Net Grippers\" with a description of the parallel-jaw gripper you'd like to add.\n",
    "\n",
    "## Custom Database Generation\n",
    "The master Dex-Net API does not support the creation of new databases of objects. \n",
    "If you are interested in using this functionality for research, see [the custom-databases branch](https://github.com/BerkeleyAutomation/dex-net/tree/custom-databases).\n",
    "However, we cannot provide support at this time."
   ]
  }
 ],

 "metadata": {
  "kernelspec": {
   "display_name": "Bash",
   "language": "bash",
   "name": "bash"
  },
  "language_info": {
   "codemirror_mode": "shell",
   "file_extension": ".sh",
   "mimetype": "text/x-sh",
   "name": "bash"
  }
 },
 "nbformat": 4,
 "nbformat_minor": 2
}
